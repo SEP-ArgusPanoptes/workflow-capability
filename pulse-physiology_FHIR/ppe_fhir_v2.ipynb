{
 "cells": [
  {
   "cell_type": "markdown",
   "metadata": {},
   "source": [
    "# Pulse Engine -FHIR Interface App\n",
    "\n",
    "## Overview\n",
    "\n",
    "The Pulse Engine -FHIR Interface App is a Jupyter Notebook application that leverages the Pulse Physiology Engine to simulate physiological scenarios and integrates with a Fast Healthcare Interoperability Resources (FHIR) server to manage the observations recorded during simulations.\n",
    "\n",
    "Access Jupyter Notebook at http://127.0.0.1:8888/notebook\n",
    "### Usage\n",
    "- The FHIR server is configured at http://host.docker.internal:8180/fhir\n",
    "- Run the notebook and enter the patient ID when prompted\n",
    "- Use interactive buttons to simulate scenarios (e.g., airway obstruction)\n",
    "- Results are logged and sent to the FHIR server in real-time\n",
    "### FHIR Server Configuration\n",
    "- The application uses http://host.docker.internal:8180/fhir to communicate with the FHIR server. This special hostname allows the notebook application to reach the FHIR server inside the Docker container's network\n",
    "### Simulating Scenarios\n",
    "- Run the application notebook within the Jupyter interface\n",
    "- Enter the patient_id when prompted\n",
    "- Use the interactive buttons to simulate different physiological scenarios\n",
    "- Simulation results will be logged and sent to the FHIR server in real-time\n",
    "- The results of the simulation displayed in graph in Heart rate vs Time and Respiratory Rate vs Time"
   ]
  },
  {
   "cell_type": "markdown",
   "metadata": {},
   "source": [
    "#### Coniguration setup class"
   ]
  },
  {
   "cell_type": "code",
   "execution_count": 3,
   "metadata": {},
   "outputs": [],
   "source": [
    "import configparser\n",
    "class ConfigFile:\n",
    "    def __init__(self):\n",
    "        self.config = configparser.ConfigParser()\n",
    "        self.config.read(\"config.ini\")\n",
    "    def get_FHIR_server_url(self):\n",
    "        return self.config['FHIR']['server_url']\n",
    "    def get_time_zone(self):\n",
    "        return self.config['TIME_ZONE']['time_zone']"
   ]
  },
  {
   "cell_type": "markdown",
   "metadata": {},
   "source": [
    "### UserInterface Component\n",
    "##### This component is for handling control widgets, and display outputs."
   ]
  },
  {
   "cell_type": "code",
   "execution_count": 4,
   "metadata": {},
   "outputs": [],
   "source": [
    "import ipywidgets as widgets\n",
    "from IPython.display import display, clear_output\n",
    "class UserInterface:\n",
    "    def __init__(self, simulation_core):\n",
    "        self.simulation_core = simulation_core\n",
    "        self.output = widgets.Output()\n",
    "        self._create_widgets()\n",
    "    \n",
    "    # Create the widgets for the user interface, the buttons for obstructing and clearing the airway\n",
    "    # and the output widget for displaying the patient's initial state of the patient and state after each action\n",
    "    def _create_widgets(self):\n",
    "        self.button_obstruct_airway = widgets.Button(description=\"Obstruct Airway for 20 sec\")\n",
    "        self.button_clear_airway = widgets.Button(description=\"Clear Airway for 20 sec\")\n",
    "        self.button_obstruct_airway.on_click(self._obstruct_airway)\n",
    "        self.button_clear_airway.on_click(self._clear_airway)\n",
    "        display(self.button_obstruct_airway, self.button_clear_airway, self.output)\n",
    "\n",
    "    # Obstructs the airway for 20 seconds and displays the patient's state after the obstruction\n",
    "    def _obstruct_airway(self, b):\n",
    "        with self.output:\n",
    "            clear_output()\n",
    "            self.simulation_core.obstruct_airway()\n",
    "\n",
    "    # Clears the airway for 20 seconds and displays the patient's state after the obstruction\n",
    "    def _clear_airway(self, b):\n",
    "        with self.output:\n",
    "            clear_output()\n",
    "            self.simulation_core.clear_airway()\n"
   ]
  },
  {
   "cell_type": "markdown",
   "metadata": {},
   "source": [
    "### Simulation Core Component\n",
    "##### This component is for handling the simulation core logic and initiating the PulseEngine and DataRequestManager."
   ]
  },
  {
   "cell_type": "code",
   "execution_count": 5,
   "metadata": {},
   "outputs": [],
   "source": [
    "from pulse.engine.PulseEngine import PulseEngine\n",
    "from pulse.cdm.engine import SEDataRequest, SEDataRequestManager\n",
    "from pulse.cdm.scalars import FrequencyUnit\n",
    "from pulse.cdm.patient_actions import SEAirwayObstruction\n",
    "from datetime import datetime\n",
    "\n",
    "# SimulationCore class is responsible for initializing the PulseEngine, loading the initial state of the patient\n",
    "class SimulationCore:\n",
    "    def __init__(self, patient_id, data_management):\n",
    "        self.patient_id = patient_id\n",
    "        self.pulse = PulseEngine()\n",
    "        self.data_management = data_management\n",
    "        self.data_requests = [\n",
    "            SEDataRequest.create_physiology_request(\"HeartRate\", unit=FrequencyUnit.Per_min),\n",
    "            SEDataRequest.create_physiology_request(\"RespirationRate\", unit=FrequencyUnit.Per_min),\n",
    "        ]\n",
    "        self.data_req_mgr = SEDataRequestManager(self.data_requests)\n",
    "        self.data_req_mgr.set_results_filename(\"./simulation_results/UseCase1.csv\")\n",
    "        if not self.pulse.serialize_from_file(\"./data/states/Soldier@0s.pbb\", self.data_req_mgr):\n",
    "            print(\"Unable to load initial state file\")\n",
    "        else:\n",
    "            self.results = self.pulse.pull_data()\n",
    "        self._advance_time_and_record(1)\n",
    "\n",
    "    # Advances the time by 1 second and prints the patient's state after each action taken\n",
    "    def _advance_time_and_record(self, seconds, action=None):\n",
    "        if action:\n",
    "            self.pulse.process_action(action)\n",
    "        for second in range(1, seconds + 1):\n",
    "            self.pulse.advance_time_s(1)\n",
    "            self.results = self.pulse.pull_data()\n",
    "        self.data_management.FHIR_data_mapper(self.results)\n",
    "    \n",
    "    # Obstructs the patient's airway for 20 seconds\n",
    "    def obstruct_airway(self):\n",
    "        airway_obstruction = SEAirwayObstruction()\n",
    "        airway_obstruction.set_comment(\"Patient Airway is obstructed\")\n",
    "        airway_obstruction.get_severity().set_value(1)\n",
    "        print(\"Obstructing patient airway...\")\n",
    "        self._advance_time_and_record(20, airway_obstruction)\n",
    "    \n",
    "    # Clears the patient's airway for 20 seconds\n",
    "    def clear_airway(self):\n",
    "        airway_clear = SEAirwayObstruction()\n",
    "        airway_clear.set_comment(\"Patient Airway is cleared\")\n",
    "        airway_clear.get_severity().set_value(0)\n",
    "        print(\"Clearing patient airway...\")\n",
    "        self._advance_time_and_record(20, airway_clear)\n"
   ]
  },
  {
   "cell_type": "markdown",
   "metadata": {},
   "source": [
    "#### DataManagement Component\n",
    "##### The component is for handling FHIR mapping and CSV file management."
   ]
  },
  {
   "cell_type": "code",
   "execution_count": 6,
   "metadata": {},
   "outputs": [],
   "source": [
    "import csv\n",
    "import os\n",
    "import logging\n",
    "import requests\n",
    "from datetime import datetime\n",
    "import pytz\n",
    "\n",
    "# DataManagement class is responsible for saving the patient's data to a CSV file and mapping the data to FHIR resources\n",
    "class DataManagement:\n",
    "    def __init__(self, patient_id, config_file):\n",
    "        self.FHIR_SERVER_URL = config_file.get_FHIR_server_url()\n",
    "        self.time_zone = config_file.get_time_zone()\n",
    "        self.patient_id = patient_id\n",
    "        self.csv_file_path = \"./simulation_results/UseCase1.csv\"\n",
    "        os.makedirs(os.path.dirname(self.csv_file_path), exist_ok=True)\n",
    "\n",
    "    def _get_result_from_csv(self, csv_file_path):\n",
    "        last_line = None\n",
    "        with open(csv_file_path, 'r') as file:\n",
    "            reader = csv.reader(file)\n",
    "            for line in reader:\n",
    "                last_line = line\n",
    "        return last_line\n",
    "\n",
    "    # Maps the patient's data to FHIR resources and sends the observations to the FHIR server\n",
    "    def FHIR_data_mapper(self, results):\n",
    "        timezone = pytz.timezone(self.time_zone)\n",
    "        timezone_now = datetime.now(timezone)\n",
    "        read_vital = self._get_result_from_csv(self.csv_file_path)\n",
    "\n",
    "        if not read_vital:\n",
    "            print(\"No data available\")\n",
    "            return\n",
    "\n",
    "        # Assuming the first row is headers\n",
    "        if read_vital[1] == \"HeartRate(1/min)\" and read_vital[2] == \"RespirationRate(1/min)\":\n",
    "            read_vital = [0, 82, 15 ]\n",
    "\n",
    "        observations = [\n",
    "            {\"loinc_code\": \"8867-4\", \"display\": \"Heart Rate\", \"value\": read_vital[1], \"unit\": \"beats/minute\"},\n",
    "            {\"loinc_code\": \"9279-1\", \"display\": \"Respiratory Rate\", \"value\": read_vital[2], \"unit\": \"breaths/minute\"}\n",
    "        ]\n",
    "\n",
    "        for obs in observations:\n",
    "            observation_data = {\n",
    "                \"resourceType\": \"Observation\",\n",
    "                \"status\": \"final\",\n",
    "                \"effectiveDateTime\": timezone_now.isoformat(),\n",
    "                \"code\": {\n",
    "                    \"coding\": [{\"system\": \"http://loinc.org\", \"code\": obs['loinc_code'], \"display\": obs['display']}]\n",
    "                },\n",
    "                \"subject\": {\"reference\": f\"Patient/{self.patient_id}\"},\n",
    "                \"valueQuantity\": {\n",
    "                    \"value\": obs['value'],\n",
    "                    \"unit\": obs['unit'],\n",
    "                    \"system\": \"http://unitsofmeasure.org\"\n",
    "                }\n",
    "            }\n",
    "            response = requests.post(f\"{self.FHIR_SERVER_URL}/Observation\", json=observation_data, headers={\"Content-Type\": \"application/fhir+json\"})\n",
    "            if response.status_code == 201:\n",
    "                print(f\"{obs['display']} value: {obs['value']}\")\n",
    "            else:\n",
    "                logging.error(f\"Failed to add observation {obs['display']}, status code: {response.status_code}, reason: {response.text}\")\n"
   ]
  },
  {
   "cell_type": "markdown",
   "metadata": {},
   "source": [
    "##### Main Script\n",
    "###### Finally, integrate these components in the main script:\n",
    "\n"
   ]
  },
  {
   "cell_type": "code",
   "execution_count": 7,
   "metadata": {},
   "outputs": [
    {
     "name": "stdin",
     "output_type": "stream",
     "text": [
      "Enter the patient ID:  1\n"
     ]
    },
    {
     "name": "stdout",
     "output_type": "stream",
     "text": [
      " Initial state of the patient:\n",
      "------------------------------:\n",
      "\n",
      "Heart Rate value: 85.714286\n",
      "Respiratory Rate value: 15.957447\n"
     ]
    },
    {
     "data": {
      "application/vnd.jupyter.widget-view+json": {
       "model_id": "164a510795054bf6bc0c40531b6c0268",
       "version_major": 2,
       "version_minor": 0
      },
      "text/plain": [
       "Button(description='Obstruct Airway for 20 sec', style=ButtonStyle())"
      ]
     },
     "metadata": {},
     "output_type": "display_data"
    },
    {
     "data": {
      "application/vnd.jupyter.widget-view+json": {
       "model_id": "b8dd47437f6c4ae197569023ca8e79e0",
       "version_major": 2,
       "version_minor": 0
      },
      "text/plain": [
       "Button(description='Clear Airway for 20 sec', style=ButtonStyle())"
      ]
     },
     "metadata": {},
     "output_type": "display_data"
    },
    {
     "data": {
      "application/vnd.jupyter.widget-view+json": {
       "model_id": "1e94052cfca54a45b83fdf706e08b081",
       "version_major": 2,
       "version_minor": 0
      },
      "text/plain": [
       "Output()"
      ]
     },
     "metadata": {},
     "output_type": "display_data"
    }
   ],
   "source": [
    "patient_id = input(\"Enter the patient ID: \")\n",
    "print(\" Initial state of the patient:\")\n",
    "print(\"------------------------------:\\n\")\n",
    "config_file = ConfigFile()\n",
    "data_management = DataManagement(patient_id,config_file)\n",
    "simulation_core = SimulationCore(patient_id, data_management)\n",
    "ui = UserInterface(simulation_core)"
   ]
  },
  {
   "cell_type": "markdown",
   "metadata": {},
   "source": [
    "### Using the UI provided in application play for couple of minutes, check the following graph to see the effect"
   ]
  },
  {
   "cell_type": "code",
   "execution_count": 8,
   "metadata": {},
   "outputs": [
    {
     "data": {
      "image/png": "[encoded data removed]",
      "text/plain": [
       "<Figure size 500x500 with 2 Axes>"
      ]
     },
     "metadata": {},
     "output_type": "display_data"
    }
   ],
   "source": [
    "import pandas as pd\n",
    "import matplotlib.pyplot as plt\n",
    "\n",
    "csv_file_path = \"./simulation_results/UseCase1.csv\"\n",
    "df = pd.read_csv(csv_file_path)\n",
    "fig, axs = plt.subplots(2, 1, figsize=(5, 5))\n",
    "\n",
    "# Heart Rate plot\n",
    "axs[0].plot(df['Time(s)'], df['HeartRate(1/min)'], color='red')\n",
    "axs[0].set_title('Heart Rate Over Time')\n",
    "axs[0].set_xlabel('Time (s)')\n",
    "axs[0].set_ylabel('Heart Rate (1/min)')\n",
    "axs[0].grid(True)\n",
    "\n",
    "# Respiration Rate plot\n",
    "axs[1].plot(df['Time(s)'], df['RespirationRate(1/min)'], color='blue')\n",
    "axs[1].set_title('Respiration Rate Over Time')\n",
    "axs[1].set_xlabel('Time (s)')\n",
    "axs[1].set_ylabel('Respiration Rate (1/min)')\n",
    "axs[1].grid(True)\n",
    "\n",
    "plt.tight_layout()\n",
    "plt.show()\n"
   ]
  }
 ],
 "metadata": {
  "kernelspec": {
   "display_name": "Python 3 (ipykernel)",
   "language": "python",
   "name": "python3"
  },
  "language_info": {
   "codemirror_mode": {
    "name": "ipython",
    "version": 3
   },
   "file_extension": ".py",
   "mimetype": "text/x-python",
   "name": "python",
   "nbconvert_exporter": "python",
   "pygments_lexer": "ipython3",
   "version": "3.9.2"
  }
 },
 "nbformat": 4,
 "nbformat_minor": 4
}
